{
 "cells": [
  {
   "cell_type": "code",
   "execution_count": 97,
   "metadata": {},
   "outputs": [],
   "source": [
    "import numpy as np\n",
    "import matplotlib.pyplot as plt\n",
    "import os\n",
    "from os import path\n",
    "import re\n",
    "\n",
    "from __future__ import print_function"
   ]
  },
  {
   "cell_type": "code",
   "execution_count": 153,
   "metadata": {},
   "outputs": [],
   "source": [
    "def viewSimCycles(parentDir):\n",
    "    tests = os.listdir(parentDir) #path.realpath(parentDir))\n",
    "    if tests:\n",
    "        tests.sort(key=lambda x:x[-1])\n",
    "        for test in tests:\n",
    "            testPath = path.join(parentDir,test)\n",
    "            if path.isdir(testPath):\n",
    "                with open(testPath+'/zsim.out','r') as f:\n",
    "                    try:\n",
    "                        simTimeLine = f.readlines()[5]\n",
    "                        simTime = int((re.split('\\W+',simTimeLine))[2])\n",
    "                        \n",
    "                        #x = map(lambda y:re.search('^ *time',y),simTime) # fancy time matching\n",
    "                    except IndexError:\n",
    "                        pass\n",
    "    else:\n",
    "        print(\"Trying Running the Tests for real!!\")"
   ]
  },
  {
   "cell_type": "code",
   "execution_count": 154,
   "metadata": {},
   "outputs": [
    {
     "name": "stdout",
     "output_type": "stream",
     "text": [
      "137685935\n",
      "323518516\n",
      "205998282\n",
      "241675008\n",
      "232673675\n",
      "218065009\n",
      "229020989\n",
      "445422247\n"
     ]
    }
   ],
   "source": [
    "viewSimCycles('/home/gaurav/GraduateStudies/CS752/Tools/zsim/tests/2018-11-27_10-17-42')"
   ]
  },
  {
   "cell_type": "code",
   "execution_count": null,
   "metadata": {},
   "outputs": [],
   "source": []
  }
 ],
 "metadata": {
  "kernelspec": {
   "display_name": "Python 2",
   "language": "python",
   "name": "python2"
  },
  "language_info": {
   "codemirror_mode": {
    "name": "ipython",
    "version": 2
   },
   "file_extension": ".py",
   "mimetype": "text/x-python",
   "name": "python",
   "nbconvert_exporter": "python",
   "pygments_lexer": "ipython2",
   "version": "2.7.15"
  }
 },
 "nbformat": 4,
 "nbformat_minor": 2
}
