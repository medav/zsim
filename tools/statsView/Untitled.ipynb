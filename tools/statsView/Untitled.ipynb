{
 "cells": [
  {
   "cell_type": "code",
   "execution_count": 155,
   "metadata": {},
   "outputs": [],
   "source": [
    "import numpy as np\n",
    "import matplotlib.pyplot as plt\n",
    "import os\n",
    "from os import path\n",
    "import re\n",
    "from collections import OrderedDict as ODict\n",
    "from __future__ import print_function"
   ]
  },
  {
   "cell_type": "code",
   "execution_count": 162,
   "metadata": {},
   "outputs": [],
   "source": [
    "def viewSimCycles(parentDir):\n",
    "    tests = os.listdir(parentDir) #path.realpath(parentDir))\n",
    "    simDict = ODict()\n",
    "    if tests:\n",
    "        tests.sort(key=lambda x:x[-1])\n",
    "        for test in tests:\n",
    "            testPath = path.join(parentDir,test)\n",
    "            if path.isdir(testPath):\n",
    "                with open(testPath+'/zsim.out','r') as f:\n",
    "                    try:\n",
    "                        simTimeLine = f.readlines()[5]\n",
    "                        simTime = int((re.split('\\W+',simTimeLine))[2])\n",
    "                        simDict[test] = simTime\n",
    "                        #x = map(lambda y:re.search('^ *time',y),simTime) # fancy time matching\n",
    "                    except IndexError:\n",
    "                        pass\n",
    "        return simDict\n",
    "    else:\n",
    "        print(\"Trying Running the Tests for real!!\")\n",
    "        return None"
   ]
  },
  {
   "cell_type": "code",
   "execution_count": 163,
   "metadata": {},
   "outputs": [
    {
     "data": {
      "text/plain": [
       "OrderedDict([('test_0', 137685935),\n",
       "             ('test_1', 323518516),\n",
       "             ('test_2', 205998282),\n",
       "             ('test_3', 241675008),\n",
       "             ('test_4', 232673675),\n",
       "             ('test_5', 218065009),\n",
       "             ('test_6', 229020989),\n",
       "             ('test_7', 445422247)])"
      ]
     },
     "execution_count": 163,
     "metadata": {},
     "output_type": "execute_result"
    }
   ],
   "source": [
    "viewSimCycles('/home/gaurav/GraduateStudies/CS752/Tools/zsim/tests/2018-11-27_10-17-42')"
   ]
  },
  {
   "cell_type": "code",
   "execution_count": null,
   "metadata": {},
   "outputs": [],
   "source": []
  }
 ],
 "metadata": {
  "kernelspec": {
   "display_name": "Python 2",
   "language": "python",
   "name": "python2"
  },
  "language_info": {
   "codemirror_mode": {
    "name": "ipython",
    "version": 2
   },
   "file_extension": ".py",
   "mimetype": "text/x-python",
   "name": "python",
   "nbconvert_exporter": "python",
   "pygments_lexer": "ipython2",
   "version": "2.7.15"
  }
 },
 "nbformat": 4,
 "nbformat_minor": 2
}
